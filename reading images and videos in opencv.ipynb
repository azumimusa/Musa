{
 "cells": [
  {
   "cell_type": "code",
   "execution_count": 1,
   "metadata": {},
   "outputs": [],
   "source": [
    "import cv2 as cv"
   ]
  },
  {
   "cell_type": "code",
   "execution_count": 2,
   "metadata": {},
   "outputs": [],
   "source": [
    " img =cv.imread('sherry.PNG')\n",
    "cv.imshow('hello1', img)\n",
    "    \n"
   ]
  },
  {
   "cell_type": "code",
   "execution_count": 3,
   "metadata": {},
   "outputs": [],
   "source": [
    "def rescaleFrame(frame, scale=0.3):\n",
    "#     images, videos, and livevideos\n",
    "    weidth=int(frame.shape[1]*scale)\n",
    "    height=int(frame.shape[0]*scale)\n",
    "    dimensions=(height, weidth)\n",
    "    return cv.resize(frame, dimensions, interpolation=cv.INTER_AREA)\n",
    "\n",
    "frame_resized=rescaleFrame(img)   \n",
    "cv.imshow('Hello', frame_resized)"
   ]
  },
  {
   "cell_type": "code",
   "execution_count": 4,
   "metadata": {},
   "outputs": [],
   "source": [
    "def changeResolution(width, hight):\n",
    "#     only work for live video\n",
    "    capture.set(3, width)\n",
    "    capture.set(4, hight)"
   ]
  },
  {
   "cell_type": "code",
   "execution_count": 5,
   "metadata": {},
   "outputs": [],
   "source": [
    "capture=cv.VideoCapture(0)\n",
    "\n",
    "while True:\n",
    "    isTrue, frame=capture.read()\n",
    "    frame_resized=rescaleFrame(frame)\n",
    "    cv.imshow('MyNewyear', frame)\n",
    "    cv.imshow('video Resize', frame_resized)\n",
    "    \n",
    "    if cv.waitKey(20) & 0xFF==ord('d'):\n",
    "        break\n",
    "capture.release()\n",
    "cv.destroyAllWindows()"
   ]
  },
  {
   "cell_type": "code",
   "execution_count": null,
   "metadata": {},
   "outputs": [],
   "source": []
  }
 ],
 "metadata": {
  "kernelspec": {
   "display_name": "Python 3",
   "language": "python",
   "name": "python3"
  },
  "language_info": {
   "codemirror_mode": {
    "name": "ipython",
    "version": 3
   },
   "file_extension": ".py",
   "mimetype": "text/x-python",
   "name": "python",
   "nbconvert_exporter": "python",
   "pygments_lexer": "ipython3",
   "version": "3.8.3"
  }
 },
 "nbformat": 4,
 "nbformat_minor": 4
}
