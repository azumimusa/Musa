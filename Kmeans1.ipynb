{
 "cells": [
  {
   "cell_type": "code",
   "execution_count": 7,
   "metadata": {},
   "outputs": [],
   "source": [
    "import matplotlib.pyplot as plt\n",
    "from matplotlib import style\n",
    "style.use('ggplot')\n",
    "import numpy as np"
   ]
  },
  {
   "cell_type": "code",
   "execution_count": 8,
   "metadata": {},
   "outputs": [],
   "source": [
    "X=np.array([[2,3],\n",
    "           [5.6, 7.8],\n",
    "           [3, 4],\n",
    "           [9, 7],\n",
    "           [3, 1],\n",
    "           [1, 2]])"
   ]
  },
  {
   "cell_type": "code",
   "execution_count": 9,
   "metadata": {},
   "outputs": [
    {
     "data": {
      "image/png": "[encoded data removed]",
      "text/plain": [
       "<Figure size 432x288 with 1 Axes>"
      ]
     },
     "metadata": {},
     "output_type": "display_data"
    }
   ],
   "source": [
    "plt.scatter(X[:,0],X[:,1], s=150)\n",
    "plt.show()"
   ]
  },
  {
   "cell_type": "code",
   "execution_count": 10,
   "metadata": {},
   "outputs": [],
   "source": [
    "colors=10*[\"g\",\"r\",\"c\",\"b\", \"k\"]"
   ]
  },
  {
   "cell_type": "code",
   "execution_count": null,
   "metadata": {},
   "outputs": [],
   "source": [
    "class K_mean:\n",
    "    def __init__(self, k=2, tol=0.001, max_iter=300):\n",
    "        self.k=k\n",
    "        self.tol=tol\n",
    "        self.max_iter=max_iter\n",
    "\n",
    "    def fit(self, data):\n",
    "        self.centroids={}\n",
    "        for i in range(self.k):\n",
    "            self.centroids[i] = data[i]\n",
    "            \n",
    "        for i in range(self.max_iter):\n",
    "            self.classifications = {}\n",
    "            \n",
    "            for i in range(self.k):\n",
    "                self.classifications[i]=[]\n",
    "            for feature in X:\n",
    "                distances=[np.linalg.norm(feature - self.centroids[centroid]) for centroid in self.centroids]\n",
    "                classification=distances.index(min(distances))\n",
    "                self.classifications[classification].append(feature)\n",
    "                \n",
    "            previous_centroid=dict(self.centroids)\n",
    "            for classification in classifications:\n",
    "                self.classifications[classification]=np.average(self.classifications[classification], axis=0)\n",
    "    \n",
    "    def predict(self, data):\n",
    "        pass\n",
    "    \n",
    "    "
   ]
  }
 ],
 "metadata": {
  "kernelspec": {
   "display_name": "Python 3",
   "language": "python",
   "name": "python3"
  },
  "language_info": {
   "codemirror_mode": {
    "name": "ipython",
    "version": 3
   },
   "file_extension": ".py",
   "mimetype": "text/x-python",
   "name": "python",
   "nbconvert_exporter": "python",
   "pygments_lexer": "ipython3",
   "version": "3.8.3"
  }
 },
 "nbformat": 4,
 "nbformat_minor": 4
}
