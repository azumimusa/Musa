{
 "cells": [
  {
   "cell_type": "code",
   "execution_count": 20,
   "metadata": {},
   "outputs": [
    {
     "data": {
      "text/plain": [
       "array(['HipHop'], dtype=object)"
      ]
     },
     "execution_count": 20,
     "metadata": {},
     "output_type": "execute_result"
    }
   ],
   "source": [
    "import pandas as pd\n",
    "from sklearn.model_selection import train_test_split\n",
    "from sklearn.tree import DecisionTreeClassifier\n",
    "from sklearn.metrics import accuracy_score\n",
    "import joblib\n",
    "# df=pd.read_csv('music.csv')\n",
    "# X=df.drop(columns=['genre'])\n",
    "# y=df['genre']\n",
    "# X_train, X_test, y_train, y_test=train_test_split(X,y, test_size=0.2)\n",
    "# model=DecisionTreeClassifier()\n",
    "# model.fit(X_train, y_train)\n",
    "# joblib.dump(model,'good.joblib')\n",
    "model=joblib.load('good.joblib')\n",
    "prediction =model.predict([[21,1]])\n",
    "prediction                        \n",
    "                          \n",
    "                          \n",
    "                          \n",
    "\n",
    "\n",
    "\n"
   ]
  }
 ],
 "metadata": {
  "kernelspec": {
   "display_name": "Python 3",
   "language": "python",
   "name": "python3"
  },
  "language_info": {
   "codemirror_mode": {
    "name": "ipython",
    "version": 3
   },
   "file_extension": ".py",
   "mimetype": "text/x-python",
   "name": "python",
   "nbconvert_exporter": "python",
   "pygments_lexer": "ipython3",
   "version": "3.8.3"
  }
 },
 "nbformat": 4,
 "nbformat_minor": 4
}
